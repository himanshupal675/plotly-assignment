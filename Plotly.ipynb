{
 "cells": [
  {
   "cell_type": "markdown",
   "id": "a1e652d0-0c6a-42a4-88ea-2db9fb78c072",
   "metadata": {},
   "source": [
    "## Q1. Load the \"titanic\" dataset using the load_dataset function of seaborn. Use Plotly express to plot a scatter plot for age and fare columns in the titanic dataset."
   ]
  },
  {
   "cell_type": "code",
   "execution_count": null,
   "id": "2ded67c2-dc71-4dc8-85da-a41974551538",
   "metadata": {},
   "outputs": [],
   "source": [
    "import seaborn as sns\n",
    "import plotly.express as px\n",
    "\n",
    "# Load the \"titanic\" dataset\n",
    "titanic_data = sns.load_dataset(\"titanic\")\n",
    "\n",
    "# Plot a scatter plot using Plotly Express\n",
    "scatter_plot = px.scatter(titanic_data, x='age', y='fare', title='Scatter Plot of Age vs Fare',\n",
    "                          labels={'age': 'Age', 'fare': 'Fare'})\n",
    "scatter_plot.show()\n"
   ]
  },
  {
   "cell_type": "markdown",
   "id": "9440666a-25ed-4023-b097-73a709d35c4c",
   "metadata": {},
   "source": [
    "## Q2. Using the tips dataset in the Plotly library, plot a box plot using Plotly express."
   ]
  },
  {
   "cell_type": "code",
   "execution_count": null,
   "id": "e3298f1a-043b-4de3-95f0-9a8d481739bd",
   "metadata": {},
   "outputs": [],
   "source": [
    "import plotly.express as px\n",
    "\n",
    "# Load the \"tips\" dataset from Plotly\n",
    "tips_data = px.data.tips()\n",
    "\n",
    "# Plot a box plot using Plotly Express\n",
    "box_plot = px.box(tips_data, x='day', y='total_bill', title='Box Plot of Total Bill by Day',\n",
    "                  labels={'total_bill': 'Total Bill', 'day': 'Day'})\n",
    "box_plot.show()\n"
   ]
  },
  {
   "cell_type": "markdown",
   "id": "ee8d2ec0-4d8a-4995-b3bf-84734acf4a34",
   "metadata": {},
   "source": [
    "## Q3. Using the tips dataset in the Plotly library, Plot a histogram for x= \"sex\" and y=\"total_bill\" column in the tips dataset. Also, use the \"smoker\" column with the pattern_shape parameter and the \"day\" column with the color parameter."
   ]
  },
  {
   "cell_type": "code",
   "execution_count": null,
   "id": "4febf3d0-177c-468c-9275-0487665b8712",
   "metadata": {},
   "outputs": [],
   "source": [
    "import plotly.express as px\n",
    "\n",
    "# Load the \"tips\" dataset from Plotly\n",
    "tips_data = px.data.tips()\n",
    "\n",
    "# Plot a histogram using Plotly Express\n",
    "histogram = px.histogram(tips_data, x='sex', y='total_bill', color='day',\n",
    "                         pattern_shape='smoker', title='Histogram of Total Bill by Sex',\n",
    "                         labels={'total_bill': 'Total Bill', 'sex': 'Sex'})\n",
    "histogram.show()\n"
   ]
  },
  {
   "cell_type": "markdown",
   "id": "f3b0ca37-b2ff-4b32-9e30-2d7406be80a2",
   "metadata": {},
   "source": [
    "## Q4. Using the iris dataset in the Plotly library, Plot a scatter matrix plot, using the \"species\" column for the color parameter."
   ]
  },
  {
   "cell_type": "code",
   "execution_count": null,
   "id": "6c4f4f82-f4f2-4a1d-8ae7-f4e5bfd76e4a",
   "metadata": {},
   "outputs": [],
   "source": [
    "import plotly.express as px\n",
    "\n",
    "# Load the \"iris\" dataset from Plotly\n",
    "iris_data = px.data.iris()\n",
    "\n",
    "# Plot a scatter matrix using Plotly Express\n",
    "scatter_matrix = px.scatter_matrix(iris_data, dimensions=[\"sepal_length\", \"sepal_width\", \"petal_length\", \"petal_width\"],\n",
    "                                   color=\"species\", title='Scatter Matrix Plot of Iris Dataset')\n",
    "scatter_matrix.show()\n"
   ]
  },
  {
   "cell_type": "markdown",
   "id": "7618ac8d-d3e4-4802-8326-89883c845652",
   "metadata": {},
   "source": [
    "## Q5. What is Distplot? Using Plotly express, plot a distplot."
   ]
  },
  {
   "cell_type": "markdown",
   "id": "fd062ec5-915f-4832-8f04-bfdc9b1b8c60",
   "metadata": {},
   "source": [
    "A distplot (distribution plot) is a type of plot that combines a histogram with a kernel density estimate (KDE) to visualize the distribution of a univariate dataset. It provides insights into the underlying probability distribution of the data, showing the shape, central tendency, and spread"
   ]
  },
  {
   "cell_type": "code",
   "execution_count": null,
   "id": "1a90a96f-006e-48d7-bd36-e8d4c7338d92",
   "metadata": {},
   "outputs": [],
   "source": [
    "import plotly.express as px\n",
    "\n",
    "# Sample data\n",
    "data = [1, 2, 2, 3, 3, 3, 4, 4, 4, 4, 5, 5, 5, 5, 5]\n",
    "\n",
    "# Plot a distplot using Plotly Express\n",
    "distplot = px.histogram(data, nbins=5, marginal=\"rug\", title='Distplot Example')\n",
    "distplot.show()\n"
   ]
  }
 ],
 "metadata": {
  "kernelspec": {
   "display_name": "Python 3 (ipykernel)",
   "language": "python",
   "name": "python3"
  },
  "language_info": {
   "codemirror_mode": {
    "name": "ipython",
    "version": 3
   },
   "file_extension": ".py",
   "mimetype": "text/x-python",
   "name": "python",
   "nbconvert_exporter": "python",
   "pygments_lexer": "ipython3",
   "version": "3.10.8"
  }
 },
 "nbformat": 4,
 "nbformat_minor": 5
}
